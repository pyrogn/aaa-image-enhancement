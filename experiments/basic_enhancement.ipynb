{
 "cells": [
  {
   "cell_type": "code",
   "execution_count": null,
   "metadata": {},
   "outputs": [],
   "source": [
    "import cv2\n",
    "from matplotlib import pyplot as plt\n",
    "from aaa_image_enhancement.image_features import ImageParams, enhance_image\n",
    "\n",
    "img_path = \"../imgs/7.jpeg\"\n",
    "params = ImageParams.find_params(img_path)\n",
    "print(params)\n",
    "\n",
    "image = cv2.imread(img_path)\n",
    "\n",
    "enhanced_image = enhance_image(image, None)\n",
    "\n",
    "image_rgb = cv2.cvtColor(image, cv2.COLOR_BGR2RGB)\n",
    "enhanced_image_rgb = cv2.cvtColor(enhanced_image, cv2.COLOR_BGR2RGB)\n",
    "\n",
    "fig, (ax1, ax2) = plt.subplots(1, 2, figsize=(12, 6))\n",
    "ax1.imshow(image_rgb)\n",
    "ax1.set_title(\"Original Image\")\n",
    "ax1.axis(\"off\")\n",
    "ax2.imshow(enhanced_image_rgb)\n",
    "ax2.set_title(\"Enhanced Image\")\n",
    "ax2.axis(\"off\")\n",
    "plt.tight_layout()\n",
    "plt.show()"
   ]
  },
  {
   "cell_type": "code",
   "execution_count": null,
   "metadata": {},
   "outputs": [],
   "source": []
  },
  {
   "cell_type": "code",
   "execution_count": null,
   "metadata": {},
   "outputs": [],
   "source": []
  }
 ],
 "metadata": {
  "kernelspec": {
   "display_name": ".venv",
   "language": "python",
   "name": "python3"
  },
  "language_info": {
   "codemirror_mode": {
    "name": "ipython",
    "version": 3
   },
   "file_extension": ".py",
   "mimetype": "text/x-python",
   "name": "python",
   "nbconvert_exporter": "python",
   "pygments_lexer": "ipython3",
   "version": "3.12.0"
  }
 },
 "nbformat": 4,
 "nbformat_minor": 2
}
