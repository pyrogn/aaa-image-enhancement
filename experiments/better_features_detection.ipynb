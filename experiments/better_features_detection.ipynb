{
 "cells": [
  {
   "cell_type": "code",
   "execution_count": null,
   "metadata": {},
   "outputs": [],
   "source": [
    "import os, cv2, random, glob\n",
    "import matplotlib.pyplot as plt\n",
    "from aaa_image_enhancement.image_defects_detection import DefectsDetectorOpenCV"
   ]
  },
  {
   "cell_type": "code",
   "execution_count": null,
   "metadata": {},
   "outputs": [],
   "source": [
    "images = glob.glob(\"../real_estate_images/**/*.jpg\")\n",
    "defect = DefectsDetectorOpenCV(\n",
    "    cv2.cvtColor(cv2.imread(images[0]), cv2.COLOR_BGR2RGB), blur_threshold=1000\n",
    ")\n",
    "defect.find_defects()"
   ]
  },
  {
   "cell_type": "markdown",
   "metadata": {},
   "source": [
    "Просмотр фильтров"
   ]
  },
  {
   "cell_type": "code",
   "execution_count": null,
   "metadata": {},
   "outputs": [],
   "source": [
    "from IPython.display import display, Image\n",
    "import random\n",
    "\n",
    "from aaa_image_enhancement.enhance_image import EnhanceAgentFirst, ImageEnhancerOpenCV\n",
    "from aaa_image_enhancement.image_defects_detection import DefectNames\n",
    "\n",
    "images = glob.glob(\"../real_estate_images/**/*.jpg\")\n",
    "random.shuffle(images)\n",
    "\n",
    "defect_images = []\n",
    "for image_path in images:\n",
    "    image = cv2.cvtColor(cv2.imread(image_path), cv2.COLOR_BGR2RGB)\n",
    "    pr = DefectsDetectorOpenCV(\n",
    "        image, blur_threshold=100, contrast_threshold=0.1, low_light_threshold=80\n",
    "    )\n",
    "    defect = pr.find_defects()\n",
    "    if defect.__dict__[DefectNames.LOW_LIGHT.value]:\n",
    "        enhancer =ImageEnhancerOpenCV(<convert image to RGB numpy array>)\n",
    "        enhanced_image = enhancer.fix_defect(<numpy RGB image>, DefectNames.LOW_LIGHT)\n",
    "        <print original and enhanced image>\n",
    "        defect_images.append(image_path)\n",
    "        if len(defect_images) == 10:\n",
    "            break\n",
    "\n",
    "for image_path in defect_images:\n",
    "    display(Image(filename=image_path, width=800, height=600))"
   ]
  },
  {
   "cell_type": "code",
   "execution_count": null,
   "metadata": {},
   "outputs": [],
   "source": [
    "from IPython.display import display, Image\n",
    "import random\n",
    "import cv2\n",
    "import numpy as np\n",
    "\n",
    "from aaa_image_enhancement.enhance_image import EnhanceAgentFirst, ImageEnhancerOpenCV\n",
    "from aaa_image_enhancement.image_defects_detection import DefectNames\n",
    "\n",
    "images = glob.glob(\"../real_estate_images/**/*.jpg\")\n",
    "random.shuffle(images)\n",
    "defect_tackle = DefectNames.BLUR\n",
    "\n",
    "defect_images = []\n",
    "for image_path in images:\n",
    "    image = cv2.cvtColor(cv2.imread(image_path), cv2.COLOR_BGR2RGB)\n",
    "    pr = DefectsDetectorOpenCV(\n",
    "        image, blur_threshold=100, contrast_threshold=0.1, low_light_threshold=80\n",
    "    )\n",
    "    defect = pr.find_defects()\n",
    "    if defect.__dict__[defect_tackle.value]:\n",
    "        enhancer = ImageEnhancerOpenCV(image)\n",
    "        enhanced_image = enhancer.fix_defect(image, defect_tackle)\n",
    "\n",
    "        # Print original and enhanced images\n",
    "        fig, (ax1, ax2) = plt.subplots(1, 2, figsize=(12, 6))\n",
    "        ax1.imshow(image)\n",
    "        ax1.set_title(\"Original Image\")\n",
    "        ax1.axis(\"off\")\n",
    "        ax2.imshow(enhanced_image)\n",
    "        ax2.set_title(\"Enhanced Image\")\n",
    "        ax2.axis(\"off\")\n",
    "        plt.tight_layout()\n",
    "        plt.show()\n",
    "\n",
    "        defect_images.append(image_path)\n",
    "        if len(defect_images) == 10:\n",
    "            break\n",
    "\n",
    "# for image_path in defect_images:\n",
    "#     display(Image(filename=image_path))"
   ]
  }
 ],
 "metadata": {
  "kernelspec": {
   "display_name": ".venv",
   "language": "python",
   "name": "python3"
  },
  "language_info": {
   "codemirror_mode": {
    "name": "ipython",
    "version": 3
   },
   "file_extension": ".py",
   "mimetype": "text/x-python",
   "name": "python",
   "nbconvert_exporter": "python",
   "pygments_lexer": "ipython3",
   "version": "3.12.0"
  }
 },
 "nbformat": 4,
 "nbformat_minor": 2
}
