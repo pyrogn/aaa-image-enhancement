{
 "cells": [
  {
   "cell_type": "code",
   "execution_count": null,
   "metadata": {},
   "outputs": [],
   "source": [
    "import os, cv2, random, glob\n",
    "import matplotlib.pyplot as plt\n",
    "from aaa_image_enhancement.image_defects_detection import ImageProperties\n",
    "from aaa_image_enhancement.image_defects_detection import detect_image_defects"
   ]
  },
  {
   "cell_type": "code",
   "execution_count": null,
   "metadata": {},
   "outputs": [],
   "source": [
    "images = glob.glob(\"../real_estate_images/**/*.jpg\")\n",
    "pr = ImageProperties(cv2.imread(images[0]))\n",
    "defect = detect_image_defects(pr)\n",
    "defect.blur"
   ]
  },
  {
   "cell_type": "markdown",
   "metadata": {},
   "source": [
    "Просмотр фильтров"
   ]
  },
  {
   "cell_type": "code",
   "execution_count": null,
   "metadata": {},
   "outputs": [],
   "source": [
    "from IPython.display import display, Image\n",
    "import random\n",
    "\n",
    "images = glob.glob(\"../real_estate_images/**/*.jpg\")\n",
    "random.shuffle(images)\n",
    "\n",
    "defect_images = []\n",
    "for image_path in images:\n",
    "    image = cv2.imread(image_path)\n",
    "    pr = ImageProperties(image)\n",
    "    defect = detect_image_defects(pr, blur_threshold=50, contrast_threshold=0.1)\n",
    "    if defect.noisy:\n",
    "        defect_images.append(image_path)\n",
    "        if len(defect_images) == 10:\n",
    "            break\n",
    "\n",
    "for image_path in defect_images:\n",
    "    display(Image(filename=image_path, width=800, height=600))"
   ]
  },
  {
   "cell_type": "code",
   "execution_count": null,
   "metadata": {},
   "outputs": [],
   "source": []
  }
 ],
 "metadata": {
  "kernelspec": {
   "display_name": ".venv",
   "language": "python",
   "name": "python3"
  },
  "language_info": {
   "codemirror_mode": {
    "name": "ipython",
    "version": 3
   },
   "file_extension": ".py",
   "mimetype": "text/x-python",
   "name": "python",
   "nbconvert_exporter": "python",
   "pygments_lexer": "ipython3",
   "version": "3.12.0"
  }
 },
 "nbformat": 4,
 "nbformat_minor": 2
}
