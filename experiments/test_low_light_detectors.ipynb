{
 "cells": [
  {
   "metadata": {
    "ExecuteTime": {
     "end_time": "2024-05-25T13:42:53.256273Z",
     "start_time": "2024-05-25T13:42:52.690190Z"
    }
   },
   "cell_type": "code",
   "source": [
    "from src.aaa_image_enhancement.defects_detection_fns import is_low_light, is_dark_color, is_dark_histogram, is_dark_threshold, is_dark_local_contrast, is_dark_blocks, is_dark_edges, is_dark_adaptive_threshold, is_dark_v_channel\n",
    "from src.aaa_image_enhancement.image_utils import ImageConversions\n",
    "from src.aaa_image_enhancement.image_defects_detection import DefectNames\n",
    "from collections import Counter\n",
    "from PIL import Image\n",
    "from typing import List, Dict\n",
    "import glob\n",
    "import time\n",
    "from IPython.display import display, clear_output"
   ],
   "id": "initial_id",
   "outputs": [],
   "execution_count": 1
  },
  {
   "metadata": {
    "ExecuteTime": {
     "end_time": "2024-05-25T13:42:58.450728Z",
     "start_time": "2024-05-25T13:42:53.257273Z"
    }
   },
   "cell_type": "code",
   "source": [
    "def defect_name_to_string(defect: DefectNames) -> str:\n",
    "    \"\"\"Convert DefectNames enum to a human-readable string.\"\"\"\n",
    "    return defect.name.replace('_', ' ').capitalize()\n",
    "\n",
    "def test_detection(image_paths: List[str]) -> Dict[str, Dict[str, List[str]]]:\n",
    "    result = {}\n",
    "    timings = {}\n",
    "    \n",
    "    for image_path in image_paths:\n",
    "        image = Image.open(image_path)\n",
    "        image_conv = ImageConversions(image)\n",
    "        \n",
    "        # Dictionary to store timing for each method\n",
    "        method_timings = {}\n",
    "        \n",
    "        # Run the detection methods and time them\n",
    "        start_time = time.time()\n",
    "        result_low_light = is_low_light(image_conv, threshold=125)\n",
    "        method_timings['is_low_light'] = time.time() - start_time\n",
    "        \n",
    "        start_time = time.time()\n",
    "        result_dark_color = is_dark_color(image_conv, threshold=150)\n",
    "        method_timings['is_dark_color'] = time.time() - start_time\n",
    "        \n",
    "        start_time = time.time()\n",
    "        result_dark_histogram = is_dark_histogram(image_conv)\n",
    "        method_timings['is_dark_histogram'] = time.time() - start_time\n",
    "        \n",
    "        start_time = time.time()\n",
    "        result_dark_threshold = is_dark_threshold(image_conv)\n",
    "        method_timings['is_dark_threshold'] = time.time() - start_time\n",
    "        \n",
    "        start_time = time.time()\n",
    "        result_dark_local_contrast = is_dark_local_contrast(image_conv)\n",
    "        method_timings['is_dark_local_contrast'] = time.time() - start_time\n",
    "        \n",
    "        start_time = time.time()\n",
    "        result_dark_adaptive_threshold = is_dark_adaptive_threshold(image_conv)\n",
    "        method_timings['is_dark_adaptive_threshold'] = time.time() - start_time\n",
    "        \n",
    "        start_time = time.time()\n",
    "        result_dark_v_channel = is_dark_v_channel(image_conv)\n",
    "        method_timings['is_dark_v_channel'] = time.time() - start_time\n",
    "        \n",
    "        start_time = time.time()\n",
    "        result_dark_edges = is_dark_edges(image_conv)\n",
    "        method_timings['is_dark_edges'] = time.time() - start_time\n",
    "        \n",
    "        start_time = time.time()\n",
    "        result_dark_blocks = is_dark_blocks(image_conv)\n",
    "        method_timings['is_dark_blocks'] = time.time() - start_time\n",
    "        \n",
    "        # Combine all results into one dictionary\n",
    "        combined_results = {\n",
    "            **result_low_light,\n",
    "            **result_dark_color,\n",
    "            **result_dark_histogram,\n",
    "            **result_dark_threshold,\n",
    "            **result_dark_local_contrast,\n",
    "            **result_dark_adaptive_threshold,\n",
    "            **result_dark_v_channel,\n",
    "            **result_dark_edges,\n",
    "            **result_dark_blocks,\n",
    "        }\n",
    "        \n",
    "        detected_defects = [\n",
    "            defect_name_to_string(defect) for defect, detected in combined_results.items() if detected\n",
    "        ]\n",
    "        \n",
    "        result[image_path] = detected_defects\n",
    "        timings[image_path] = method_timings\n",
    "        \n",
    "    return {'results': result, 'timings': timings}\n",
    "\n",
    "def analyze_detection_results(detection_results: Dict[str, List[str]]) -> Dict[str, int]:\n",
    "    \"\"\"Analyze the detection results to find the most common defects.\n",
    "\n",
    "    Args:\n",
    "        detection_results: A dictionary where keys are image paths and values are lists of detected defects.\n",
    "\n",
    "    Returns:\n",
    "        A dictionary with defect names as keys and their occurrence counts as values.\n",
    "    \"\"\"\n",
    "    all_defects = []\n",
    "    for defects in detection_results.values():\n",
    "        all_defects.extend(defects)\n",
    "\n",
    "    defect_counts = Counter(all_defects)\n",
    "    \n",
    "    return dict(defect_counts)\n",
    "\n",
    "def calculate_average_timings(timings: Dict[str, Dict[str, float]]) -> Dict[str, float]:\n",
    "    \"\"\"Calculate the average execution time for each detection method.\n",
    "\n",
    "    Args:\n",
    "        timings: A dictionary where keys are image paths and values are dictionaries with method timings.\n",
    "\n",
    "    Returns:\n",
    "        A dictionary with method names as keys and their average execution times as values.\n",
    "    \"\"\"\n",
    "    total_times = Counter()\n",
    "    counts = Counter()\n",
    "    \n",
    "    for method_timings in timings.values():\n",
    "        for method, timing in method_timings.items():\n",
    "            total_times[method] += timing\n",
    "            counts[method] += 1\n",
    "    \n",
    "    average_times = {method: total_times[method] / counts[method] for method in total_times}\n",
    "    \n",
    "    return average_times\n",
    "\n",
    "# Get image paths\n",
    "dark_image_paths = glob.glob(\"../data/low-light-validation/*.jpg\")\n",
    "light_image_paths = glob.glob(\"../data/high-light-validation/*.jpg\")\n",
    "\n",
    "# Get detection results and timings\n",
    "low_light_res_with_timings = test_detection(dark_image_paths)\n",
    "high_light_res_with_timings = test_detection(light_image_paths)\n",
    "\n",
    "# Extract the actual detection results\n",
    "low_light_res = low_light_res_with_timings['results']\n",
    "high_light_res = high_light_res_with_timings['results']\n",
    "\n",
    "# Analyze detection results\n",
    "low_light_analysis = analyze_detection_results(low_light_res)\n",
    "high_light_analysis = analyze_detection_results(high_light_res)\n",
    "\n",
    "# Output the timings for analysis\n",
    "low_light_timings = low_light_res_with_timings['timings']\n",
    "high_light_timings = high_light_res_with_timings['timings']\n",
    "\n",
    "# Calculate average timings\n",
    "average_low_light_timings = calculate_average_timings(low_light_timings)\n",
    "average_high_light_timings = calculate_average_timings(high_light_timings)\n",
    "\n",
    "print(\"Low Light Analysis Results:\", low_light_analysis)\n",
    "print(\"High Light Analysis Results:\", high_light_analysis)\n",
    "print(\"Average Low Light Timings:\", average_low_light_timings)\n",
    "print(\"Average High Light Timings:\", average_high_light_timings)"
   ],
   "id": "22e08614d7dcf456",
   "outputs": [
    {
     "name": "stdout",
     "output_type": "stream",
     "text": [
      "Low Light Analysis Results: {'Low light': 106, 'Dark light': 86, 'Dark histogram': 7, 'Dark threshold': 7, 'Dark local contrast': 7, 'Dark v channel': 4, 'Dark blocks': 8}\n",
      "High Light Analysis Results: {'Low light': 2, 'Dark light': 3}\n",
      "Average Low Light Timings: {'is_low_light': 0.0005613247553507487, 'is_dark_color': 0.014052939414978028, 'is_dark_histogram': 0.00565109650293986, 'is_dark_threshold': 0.00037953058878580727, 'is_dark_local_contrast': 0.0009136617183685303, 'is_dark_adaptive_threshold': 0.002025318145751953, 'is_dark_v_channel': 0.0009271899859110514, 'is_dark_edges': 0.0012202819188435873, 'is_dark_blocks': 0.0028901636600494386}\n",
      "Average High Light Timings: {'is_low_light': 0.0007022937138875325, 'is_dark_color': 0.020223371187845864, 'is_dark_histogram': 0.007092881202697754, 'is_dark_threshold': 0.000465846061706543, 'is_dark_local_contrast': 0.0011879205703735352, 'is_dark_adaptive_threshold': 0.002680365244547526, 'is_dark_v_channel': 0.0011633714040120444, 'is_dark_edges': 0.002123570442199707, 'is_dark_blocks': 0.00403134822845459}\n"
     ]
    }
   ],
   "execution_count": 2
  },
  {
   "metadata": {
    "ExecuteTime": {
     "end_time": "2024-05-25T13:42:58.454468Z",
     "start_time": "2024-05-25T13:42:58.451434Z"
    }
   },
   "cell_type": "code",
   "source": "low_light_analysis",
   "id": "5e5d3841e70b9c2d",
   "outputs": [
    {
     "data": {
      "text/plain": [
       "{'Low light': 106,\n",
       " 'Dark light': 86,\n",
       " 'Dark histogram': 7,\n",
       " 'Dark threshold': 7,\n",
       " 'Dark local contrast': 7,\n",
       " 'Dark v channel': 4,\n",
       " 'Dark blocks': 8}"
      ]
     },
     "execution_count": 3,
     "metadata": {},
     "output_type": "execute_result"
    }
   ],
   "execution_count": 3
  },
  {
   "metadata": {
    "ExecuteTime": {
     "end_time": "2024-05-25T13:42:58.457140Z",
     "start_time": "2024-05-25T13:42:58.455054Z"
    }
   },
   "cell_type": "code",
   "source": "high_light_analysis",
   "id": "191196f79356bb81",
   "outputs": [
    {
     "data": {
      "text/plain": [
       "{'Low light': 2, 'Dark light': 3}"
      ]
     },
     "execution_count": 4,
     "metadata": {},
     "output_type": "execute_result"
    }
   ],
   "execution_count": 4
  }
 ],
 "metadata": {
  "kernelspec": {
   "display_name": "Python 3",
   "language": "python",
   "name": "python3"
  },
  "language_info": {
   "codemirror_mode": {
    "name": "ipython",
    "version": 2
   },
   "file_extension": ".py",
   "mimetype": "text/x-python",
   "name": "python",
   "nbconvert_exporter": "python",
   "pygments_lexer": "ipython2",
   "version": "2.7.6"
  }
 },
 "nbformat": 4,
 "nbformat_minor": 5
}
