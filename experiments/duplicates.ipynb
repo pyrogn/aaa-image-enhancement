{
 "cells": [
  {
   "cell_type": "markdown",
   "metadata": {},
   "source": [
    "### Хэши могут пригодиться, чтобы не прогонять алгоритм на одной и той же фотографии пару раз, пока жив кэш"
   ]
  },
  {
   "cell_type": "markdown",
   "metadata": {},
   "source": [
    "### И также исключить такие данные из обучения, так как из них большая часть - рендеры."
   ]
  },
  {
   "cell_type": "code",
   "execution_count": null,
   "metadata": {},
   "outputs": [],
   "source": [
    "import os\n",
    "from collections import defaultdict\n",
    "\n",
    "import imagehash\n",
    "from IPython.display import Image as IImage\n",
    "from IPython.display import display\n",
    "from PIL import Image\n",
    "from tqdm.notebook import tqdm\n",
    "\n",
    "\n",
    "def find_duplicates(images_directory, hash_size=8, cutoff=5):\n",
    "    \"\"\"\n",
    "    Find and report near-duplicate images in the specified directory using a cutoff for Hamming distance.\n",
    "\n",
    "    :param images_directory: Directory containing images to check.\n",
    "    :param hash_size: Size of the hash, which affects the precision.\n",
    "    :param cutoff: Maximum Hamming distance between hashes to consider images as duplicates.\n",
    "    :return: None\n",
    "    \"\"\"\n",
    "    images_hashes = {}\n",
    "    duplicate_count = defaultdict(int)\n",
    "\n",
    "    for image_filename in tqdm(os.listdir(images_directory)):\n",
    "        if image_filename.lower().endswith(\".jpg\"):\n",
    "            image_path = os.path.join(images_directory, image_filename)\n",
    "            image = Image.open(image_path)\n",
    "\n",
    "            image_hash = imagehash.dhash(image, hash_size=hash_size)\n",
    "            found_duplicate = False\n",
    "\n",
    "            for stored_hash in images_hashes.keys():\n",
    "                if image_hash - stored_hash <= cutoff:\n",
    "                    duplicate_count[images_hashes[stored_hash]] += 1\n",
    "                    found_duplicate = True\n",
    "                    break\n",
    "\n",
    "            if not found_duplicate:\n",
    "                images_hashes[image_hash] = image_filename\n",
    "                duplicate_count[image_filename] = 1\n",
    "\n",
    "            image.close()\n",
    "    return duplicate_count\n",
    "\n",
    "\n",
    "images_directory = \"../data/real_estate_images\"\n",
    "\n",
    "duplicates = find_duplicates(images_directory)"
   ]
  },
  {
   "cell_type": "code",
   "execution_count": null,
   "metadata": {},
   "outputs": [],
   "source": [
    "duplicates_with_cnt = {k: v for k, v in duplicates.items() if v >= 3}\n",
    "\n",
    "total_value = sum(list(duplicates_with_cnt.values()))\n",
    "\n",
    "print(\"Images with 3 or more duplicates:\", len(duplicates_with_cnt))\n",
    "print(\"Total value of these images:\", total_value)"
   ]
  },
  {
   "cell_type": "code",
   "execution_count": null,
   "metadata": {},
   "outputs": [],
   "source": [
    "print(len(duplicates), \"duplicates found\")"
   ]
  },
  {
   "cell_type": "code",
   "execution_count": null,
   "metadata": {},
   "outputs": [],
   "source": [
    "top_duplicated_images = sorted(\n",
    "    duplicates.items(), key=lambda item: item[1], reverse=True\n",
    ")[:500]\n",
    "print(\"Top duplicated images:\")\n",
    "for image, count in top_duplicated_images:\n",
    "    if count > 1:\n",
    "        print(f\"{image} with {count} duplicates\")\n",
    "        display(\n",
    "            IImage(\n",
    "                filename=os.path.join(images_directory, image), width=800, height=600\n",
    "            )\n",
    "        )"
   ]
  }
 ],
 "metadata": {
  "kernelspec": {
   "display_name": ".venv",
   "language": "python",
   "name": "python3"
  },
  "language_info": {
   "codemirror_mode": {
    "name": "ipython",
    "version": 3
   },
   "file_extension": ".py",
   "mimetype": "text/x-python",
   "name": "python",
   "nbconvert_exporter": "python",
   "pygments_lexer": "ipython3",
   "version": "3.12.3"
  }
 },
 "nbformat": 4,
 "nbformat_minor": 2
}
