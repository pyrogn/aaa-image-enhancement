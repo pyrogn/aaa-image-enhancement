{
 "cells": [
  {
   "cell_type": "code",
   "execution_count": null,
   "metadata": {},
   "outputs": [],
   "source": [
    "import glob\n",
    "import random\n",
    "\n",
    "import cv2\n",
    "from aaa_image_enhancement.image_defects_detection import DefectNames\n",
    "from aaa_image_enhancement.image_utils import ImageConversions\n",
    "from aaa_image_enhancement.synth_defects import ImageDistortions\n",
    "\n",
    "image_paths = glob.glob(\"../data/real_estate_images/*.jpg\")\n",
    "img = cv2.imread(random.choice(image_paths))\n",
    "\n",
    "distorter = ImageDistortions(img)\n",
    "distorted_img, applied_distortions = distorter.apply_distortions(\n",
    "    # [DefectNames.BLUR, DefectNames.HAZY, DefectNames.JPEG_ARTIFACTS]\n",
    "    [DefectNames.NOISY]\n",
    "    # [DefectNames.JPEG_ARTIFACTS]\n",
    ")\n",
    "print(\"Applied distortions:\", applied_distortions)\n",
    "\n",
    "display(ImageConversions.from_cv2(distorted_img).to_pil())"
   ]
  },
  {
   "cell_type": "code",
   "execution_count": null,
   "metadata": {},
   "outputs": [],
   "source": [
    "from IPython.display import display"
   ]
  },
  {
   "cell_type": "code",
   "execution_count": null,
   "metadata": {},
   "outputs": [],
   "source": [
    "image_paths = glob.glob(\"../data/real_estate_images/*.jpg\")\n",
    "img = cv2.imread(random.choice(image_paths))\n",
    "\n",
    "for name in DefectNames._member_names_:\n",
    "    distorter = ImageDistortions(img)\n",
    "    distorted_img, applied_distortions = distorter.apply_distortions(\n",
    "        # [DefectNames.BLUR, DefectNames.HAZY, DefectNames.JPEG_ARTIFACTS]\n",
    "        [DefectNames[name]]\n",
    "        # [DefectNames.JPEG_ARTIFACTS]\n",
    "    )\n",
    "    print(\"Applied distortions:\", name)\n",
    "\n",
    "    display(ImageConversions.from_cv2(distorted_img).to_pil())"
   ]
  }
 ],
 "metadata": {
  "kernelspec": {
   "display_name": ".venv",
   "language": "python",
   "name": "python3"
  },
  "language_info": {
   "codemirror_mode": {
    "name": "ipython",
    "version": 3
   },
   "file_extension": ".py",
   "mimetype": "text/x-python",
   "name": "python",
   "nbconvert_exporter": "python",
   "pygments_lexer": "ipython3",
   "version": "3.12.3"
  }
 },
 "nbformat": 4,
 "nbformat_minor": 2
}
