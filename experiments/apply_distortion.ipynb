{
 "cells": [
  {
   "cell_type": "code",
   "execution_count": null,
   "metadata": {},
   "outputs": [],
   "source": [
    "import cv2\n",
    "import random\n",
    "import glob\n",
    "\n",
    "from aaa_image_enhancement.image_utils import ImageConversions\n",
    "from aaa_image_enhancement.synth_defects import ImageDistortions\n",
    "\n",
    "image_paths = glob.glob(\"../real_estate_images/*.jpg\")\n",
    "img = cv2.imread(random.choice(image_paths))\n",
    "\n",
    "distorter = ImageDistortions(img)\n",
    "distorted_img, applied_distortions = distorter.apply_distortions(\n",
    "    # [\"blur\", \"haziness\", \"jpeg_artifacts\"]\n",
    "    # [\"rotation\"]\n",
    "    [\"jpeg_artifacts\"]\n",
    ")\n",
    "print(\"Applied distortions:\", applied_distortions)\n",
    "\n",
    "ImageConversions.numpy_to_pil(distorted_img)"
   ]
  },
  {
   "cell_type": "code",
   "execution_count": null,
   "metadata": {},
   "outputs": [],
   "source": []
  }
 ],
 "metadata": {
  "kernelspec": {
   "display_name": ".venv",
   "language": "python",
   "name": "python3"
  },
  "language_info": {
   "codemirror_mode": {
    "name": "ipython",
    "version": 3
   },
   "file_extension": ".py",
   "mimetype": "text/x-python",
   "name": "python",
   "nbconvert_exporter": "python",
   "pygments_lexer": "ipython3",
   "version": "3.12.0"
  }
 },
 "nbformat": 4,
 "nbformat_minor": 2
}
