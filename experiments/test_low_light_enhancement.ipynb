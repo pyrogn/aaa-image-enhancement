{
 "cells": [
  {
   "metadata": {
    "ExecuteTime": {
     "end_time": "2024-05-25T13:50:22.118345Z",
     "start_time": "2024-05-25T13:50:21.254024Z"
    }
   },
   "cell_type": "code",
   "source": [
    "from src.aaa_image_enhancement.enhancement_fns import enhance_low_light_3\n",
    "\n",
    "import cv2\n",
    "import numpy as np\n",
    "import os\n",
    "import time\n",
    "from PIL import Image\n",
    "from typing import List, Dict\n",
    "import glob\n",
    "from collections import Counter\n",
    "from tqdm import tqdm\n",
    "from src.aaa_image_enhancement.image_defects_detection import DefectNames\n",
    "from src.aaa_image_enhancement.image_utils import ImageConversions\n",
    "\n",
    "\n",
    "def enhance_images(image_paths: List[str], output_dir: str) -> Dict[str, Dict[str, float]]:\n",
    "    if not os.path.exists(output_dir):\n",
    "        os.makedirs(output_dir)\n",
    "\n",
    "    timings = {}\n",
    "\n",
    "    for image_path in tqdm(image_paths, desc=\"Enhancing Images\"):\n",
    "        image = Image.open(image_path)\n",
    "        image_conv = ImageConversions(image)\n",
    "        original_image = image_conv.to_cv2()\n",
    "\n",
    "        method_timings = {}\n",
    "\n",
    "        start_time = time.time()\n",
    "        enhanced_image = enhance_low_light_3(original_image)\n",
    "        method_timings['enhance_low_light'] = time.time() - start_time\n",
    "\n",
    "        output_path = os.path.join(output_dir, os.path.basename(image_path))\n",
    "        cv2.imwrite(output_path, enhanced_image)\n",
    "\n",
    "        timings[image_path] = method_timings\n",
    "\n",
    "    return timings\n",
    "\n",
    "\n",
    "def calculate_average_timings(timings: Dict[str, Dict[str, float]]) -> Dict[str, float]:\n",
    "    \"\"\"Calculate the average execution time for each enhancement method.\n",
    "\n",
    "    Args:\n",
    "        timings: A dictionary where keys are image paths and values are dictionaries with method timings.\n",
    "\n",
    "    Returns:\n",
    "        A dictionary with method names as keys and their average execution times as values.\n",
    "    \"\"\"\n",
    "    total_times = Counter()\n",
    "    counts = Counter()\n",
    "    \n",
    "    for method_timings in timings.values():\n",
    "        for method, timing in method_timings.items():\n",
    "            total_times[method] += timing\n",
    "            counts[method] += 1\n",
    "    \n",
    "    average_times = {method: total_times[method] / counts[method] for method in total_times}\n",
    "    \n",
    "    return average_times\n",
    "\n",
    "\n",
    "dark_image_paths = glob.glob(\"../data/low-light-validation/*.jpg\")\n",
    "output_dir = \"../data/enhanced-images\"\n",
    "\n",
    "enhance_timings = enhance_images(dark_image_paths, output_dir)\n",
    "\n",
    "average_enhance_timings = calculate_average_timings(enhance_timings)\n",
    "\n",
    "print(\"Enhancement Timings:\", enhance_timings)\n",
    "print(\"Average Enhancement Timings:\", average_enhance_timings)"
   ],
   "id": "3f818d493180ee3",
   "outputs": [
    {
     "name": "stderr",
     "output_type": "stream",
     "text": [
      "Enhancing Images: 100%|██████████| 120/120 [00:00<00:00, 142.52it/s]"
     ]
    },
    {
     "name": "stdout",
     "output_type": "stream",
     "text": [
      "Enhancement Timings: {'../data/low-light-validation/26676518444.jpg': {'enhance_low_light': 0.0006482601165771484}, '../data/low-light-validation/26418901026.jpg': {'enhance_low_light': 0.0004818439483642578}, '../data/low-light-validation/26258735418.jpg': {'enhance_low_light': 0.0005209445953369141}, '../data/low-light-validation/26213952791.jpg': {'enhance_low_light': 0.000843048095703125}, '../data/low-light-validation/26210623960.jpg': {'enhance_low_light': 0.0004749298095703125}, '../data/low-light-validation/20569305603.jpg': {'enhance_low_light': 0.0008261203765869141}, '../data/low-light-validation/26225103633.jpg': {'enhance_low_light': 0.0005040168762207031}, '../data/low-light-validation/26201456742.jpg': {'enhance_low_light': 0.00047898292541503906}, '../data/low-light-validation/26049880050.jpg': {'enhance_low_light': 0.00047206878662109375}, '../data/low-light-validation/26672684323.jpg': {'enhance_low_light': 0.0005609989166259766}, '../data/low-light-validation/26046930880.jpg': {'enhance_low_light': 0.0008301734924316406}, '../data/low-light-validation/20777663441.jpg': {'enhance_low_light': 0.0005397796630859375}, '../data/low-light-validation/26214420674.jpg': {'enhance_low_light': 0.0004889965057373047}, '../data/low-light-validation/26676519201.jpg': {'enhance_low_light': 0.0005581378936767578}, '../data/low-light-validation/26361355922.jpg': {'enhance_low_light': 0.0005249977111816406}, '../data/low-light-validation/26062031687.jpg': {'enhance_low_light': 0.0006449222564697266}, '../data/low-light-validation/19785250197.jpg': {'enhance_low_light': 0.0006458759307861328}, '../data/low-light-validation/26210681045.jpg': {'enhance_low_light': 0.0006148815155029297}, '../data/low-light-validation/19785250237.jpg': {'enhance_low_light': 0.00047707557678222656}, '../data/low-light-validation/26065741994.jpg': {'enhance_low_light': 0.0004899501800537109}, '../data/low-light-validation/26672684308.jpg': {'enhance_low_light': 0.0005879402160644531}, '../data/low-light-validation/26053943198.jpg': {'enhance_low_light': 0.0006096363067626953}, '../data/low-light-validation/26857290665.jpg': {'enhance_low_light': 0.0007748603820800781}, '../data/low-light-validation/26063807267.jpg': {'enhance_low_light': 0.0004811286926269531}, '../data/low-light-validation/26059017840.jpg': {'enhance_low_light': 0.0004169940948486328}, '../data/low-light-validation/26751829120.jpg': {'enhance_low_light': 0.0004401206970214844}, '../data/low-light-validation/26225098950.jpg': {'enhance_low_light': 0.0005109310150146484}, '../data/low-light-validation/26044273647.jpg': {'enhance_low_light': 0.0005469322204589844}, '../data/low-light-validation/17869083845.jpg': {'enhance_low_light': 0.0004811286926269531}, '../data/low-light-validation/18513066406.jpg': {'enhance_low_light': 0.000492095947265625}, '../data/low-light-validation/23120008738.jpg': {'enhance_low_light': 0.00046896934509277344}, '../data/low-light-validation/18513066957.jpg': {'enhance_low_light': 0.00046324729919433594}, '../data/low-light-validation/26723738313.jpg': {'enhance_low_light': 0.00046706199645996094}, '../data/low-light-validation/26046930766.jpg': {'enhance_low_light': 0.0007131099700927734}, '../data/low-light-validation/18513066663.jpg': {'enhance_low_light': 0.0005629062652587891}, '../data/low-light-validation/26361378542.jpg': {'enhance_low_light': 0.0005512237548828125}, '../data/low-light-validation/23160694382.jpg': {'enhance_low_light': 0.0007920265197753906}, '../data/low-light-validation/26214214306.jpg': {'enhance_low_light': 0.0005259513854980469}, '../data/low-light-validation/20569305648.jpg': {'enhance_low_light': 0.0005130767822265625}, '../data/low-light-validation/26065441582.jpg': {'enhance_low_light': 0.00041031837463378906}, '../data/low-light-validation/26672684140.jpg': {'enhance_low_light': 0.0005021095275878906}, '../data/low-light-validation/26361360520.jpg': {'enhance_low_light': 0.0005130767822265625}, '../data/low-light-validation/26225103646.jpg': {'enhance_low_light': 0.0005309581756591797}, '../data/low-light-validation/26220421408.jpg': {'enhance_low_light': 0.0005180835723876953}, '../data/low-light-validation/26216985676.jpg': {'enhance_low_light': 0.0005550384521484375}, '../data/low-light-validation/26650644393.jpg': {'enhance_low_light': 0.00045680999755859375}, '../data/low-light-validation/26206761368.jpg': {'enhance_low_light': 0.000553131103515625}, '../data/low-light-validation/26021955197.jpg': {'enhance_low_light': 0.00045680999755859375}, '../data/low-light-validation/26210681022.jpg': {'enhance_low_light': 0.0004982948303222656}, '../data/low-light-validation/26062005587.jpg': {'enhance_low_light': 0.0004630088806152344}, '../data/low-light-validation/26233562800.jpg': {'enhance_low_light': 0.0004718303680419922}, '../data/low-light-validation/26714254442.jpg': {'enhance_low_light': 0.0007920265197753906}, '../data/low-light-validation/23160694409.jpg': {'enhance_low_light': 0.0006861686706542969}, '../data/low-light-validation/26672684226.jpg': {'enhance_low_light': 0.0005707740783691406}, '../data/low-light-validation/26241900778.jpg': {'enhance_low_light': 0.0005369186401367188}, '../data/low-light-validation/26053943505.jpg': {'enhance_low_light': 0.0006010532379150391}, '../data/low-light-validation/26225102979.jpg': {'enhance_low_light': 0.0005240440368652344}, '../data/low-light-validation/18513066841.jpg': {'enhance_low_light': 0.0005459785461425781}, '../data/low-light-validation/26206760883.jpg': {'enhance_low_light': 0.00045800209045410156}, '../data/low-light-validation/26034566981.jpg': {'enhance_low_light': 0.0006101131439208984}, '../data/low-light-validation/23160694422.jpg': {'enhance_low_light': 0.0007317066192626953}, '../data/low-light-validation/17869083827.jpg': {'enhance_low_light': 0.0009038448333740234}, '../data/low-light-validation/26225102365.jpg': {'enhance_low_light': 0.0007488727569580078}, '../data/low-light-validation/26066301327.jpg': {'enhance_low_light': 0.0004889965057373047}, '../data/low-light-validation/26027037551.jpg': {'enhance_low_light': 0.00046825408935546875}, '../data/low-light-validation/26751825776.jpg': {'enhance_low_light': 0.0004570484161376953}, '../data/low-light-validation/26210210110.jpg': {'enhance_low_light': 0.0004470348358154297}, '../data/low-light-validation/26364427187.jpg': {'enhance_low_light': 0.00045800209045410156}, '../data/low-light-validation/26386873461.jpg': {'enhance_low_light': 0.0004990100860595703}, '../data/low-light-validation/23048827362.jpg': {'enhance_low_light': 0.0007638931274414062}, '../data/low-light-validation/19785250276.jpg': {'enhance_low_light': 0.0005478858947753906}, '../data/low-light-validation/26206893927.jpg': {'enhance_low_light': 0.0005040168762207031}, '../data/low-light-validation/26361355235.jpg': {'enhance_low_light': 0.0007479190826416016}, '../data/low-light-validation/22754753980.jpg': {'enhance_low_light': 0.0005340576171875}, '../data/low-light-validation/26210648004.jpg': {'enhance_low_light': 0.0004940032958984375}, '../data/low-light-validation/26225099758.jpg': {'enhance_low_light': 0.000530242919921875}, '../data/low-light-validation/26361384123.jpg': {'enhance_low_light': 0.0005168914794921875}, '../data/low-light-validation/26044366392.jpg': {'enhance_low_light': 0.0005929470062255859}, '../data/low-light-validation/26225100196.jpg': {'enhance_low_light': 0.0005130767822265625}, '../data/low-light-validation/26199406509.jpg': {'enhance_low_light': 0.0005860328674316406}, '../data/low-light-validation/17869083810.jpg': {'enhance_low_light': 0.00044608116149902344}, '../data/low-light-validation/26210210116.jpg': {'enhance_low_light': 0.00048804283142089844}, '../data/low-light-validation/26021954690.jpg': {'enhance_low_light': 0.00047397613525390625}, '../data/low-light-validation/26206893896.jpg': {'enhance_low_light': 0.0004749298095703125}, '../data/low-light-validation/26361393102.jpg': {'enhance_low_light': 0.0006840229034423828}, '../data/low-light-validation/26225102999.jpg': {'enhance_low_light': 0.0005080699920654297}, '../data/low-light-validation/26197226529.jpg': {'enhance_low_light': 0.0007686614990234375}, '../data/low-light-validation/18513066914.jpg': {'enhance_low_light': 0.0005400180816650391}, '../data/low-light-validation/26063237725.jpg': {'enhance_low_light': 0.0004899501800537109}, '../data/low-light-validation/26225099603.jpg': {'enhance_low_light': 0.0004649162292480469}, '../data/low-light-validation/26201456842.jpg': {'enhance_low_light': 0.0005888938903808594}, '../data/low-light-validation/26197235187.jpg': {'enhance_low_light': 0.0006699562072753906}, '../data/low-light-validation/26033309220.jpg': {'enhance_low_light': 0.0004611015319824219}, '../data/low-light-validation/26714253078.jpg': {'enhance_low_light': 0.0004379749298095703}, '../data/low-light-validation/18513066966.jpg': {'enhance_low_light': 0.0005061626434326172}, '../data/low-light-validation/26233562850.jpg': {'enhance_low_light': 0.0004947185516357422}, '../data/low-light-validation/26064779293.jpg': {'enhance_low_light': 0.0006630420684814453}, '../data/low-light-validation/26241896575.jpg': {'enhance_low_light': 0.0005240440368652344}, '../data/low-light-validation/26206760806.jpg': {'enhance_low_light': 0.0005049705505371094}, '../data/low-light-validation/26214420735.jpg': {'enhance_low_light': 0.00041985511779785156}, '../data/low-light-validation/18513066973.jpg': {'enhance_low_light': 0.0005056858062744141}, '../data/low-light-validation/26650644339.jpg': {'enhance_low_light': 0.00042319297790527344}, '../data/low-light-validation/20569305595.jpg': {'enhance_low_light': 0.0005199909210205078}, '../data/low-light-validation/18513066781.jpg': {'enhance_low_light': 0.0005490779876708984}, '../data/low-light-validation/26857290527.jpg': {'enhance_low_light': 0.0005147457122802734}, '../data/low-light-validation/26220421339.jpg': {'enhance_low_light': 0.0006079673767089844}, '../data/low-light-validation/26386836149.jpg': {'enhance_low_light': 0.0004239082336425781}, '../data/low-light-validation/26751822118.jpg': {'enhance_low_light': 0.0007469654083251953}, '../data/low-light-validation/26314159040.jpg': {'enhance_low_light': 0.0005240440368652344}, '../data/low-light-validation/25999758811.jpg': {'enhance_low_light': 0.0005290508270263672}, '../data/low-light-validation/26650645829.jpg': {'enhance_low_light': 0.0005991458892822266}, '../data/low-light-validation/26676518932.jpg': {'enhance_low_light': 0.0005271434783935547}, '../data/low-light-validation/26037196013.jpg': {'enhance_low_light': 0.00045990943908691406}, '../data/low-light-validation/26063237744.jpg': {'enhance_low_light': 0.0004699230194091797}, '../data/low-light-validation/26210210202.jpg': {'enhance_low_light': 0.0005130767822265625}, '../data/low-light-validation/26065752064.jpg': {'enhance_low_light': 0.0004341602325439453}, '../data/low-light-validation/26067106981.jpg': {'enhance_low_light': 0.00041794776916503906}, '../data/low-light-validation/26364427122.jpg': {'enhance_low_light': 0.0005640983581542969}, '../data/low-light-validation/26064839043.jpg': {'enhance_low_light': 0.0004889965057373047}, '../data/low-light-validation/26053951801.jpg': {'enhance_low_light': 0.0006492137908935547}}\n",
      "Average Enhancement Timings: {'enhance_low_light': 0.0005490938822428385}\n"
     ]
    },
    {
     "name": "stderr",
     "output_type": "stream",
     "text": [
      "\n"
     ]
    }
   ],
   "execution_count": 2
  },
  {
   "metadata": {
    "ExecuteTime": {
     "end_time": "2024-05-25T13:50:22.120849Z",
     "start_time": "2024-05-25T13:50:22.119394Z"
    }
   },
   "cell_type": "code",
   "source": "",
   "id": "cecf17078ade4271",
   "outputs": [],
   "execution_count": 2
  }
 ],
 "metadata": {
  "kernelspec": {
   "display_name": "Python 3",
   "language": "python",
   "name": "python3"
  },
  "language_info": {
   "codemirror_mode": {
    "name": "ipython",
    "version": 2
   },
   "file_extension": ".py",
   "mimetype": "text/x-python",
   "name": "python",
   "nbconvert_exporter": "python",
   "pygments_lexer": "ipython2",
   "version": "2.7.6"
  }
 },
 "nbformat": 4,
 "nbformat_minor": 5
}
