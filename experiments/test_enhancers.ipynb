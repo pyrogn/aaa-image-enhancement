{
 "cells": [
  {
   "cell_type": "code",
   "id": "initial_id",
   "metadata": {
    "collapsed": true,
    "ExecuteTime": {
     "end_time": "2024-05-25T15:46:30.132369Z",
     "start_time": "2024-05-25T15:44:52.428684Z"
    }
   },
   "source": [
    "from src.aaa_image_enhancement.run_iat_enh import inference_iat\n",
    "from src.aaa_image_enhancement.run_gamma_corr import inference_gamma_enh\n",
    "from src.aaa_image_enhancement.run_enhance_img import inference_enhance_img\n",
    "from src.aaa_image_enhancement.image_utils import ImageConversions\n",
    "import glob\n",
    "import os\n",
    "import numpy as np\n",
    "from PIL import Image\n",
    "import cv2\n",
    "\n",
    "import tqdm\n",
    "\n",
    "SIGMA_LIST = [10, 70, 200]\n",
    "\n",
    "images_paths = glob.glob(\"../data/low-light-validation/*.jpg\")\n",
    "output_dir = \"../data/result\"\n",
    "\n",
    "os.makedirs(output_dir, exist_ok=True)\n",
    "\n",
    "def save_image(image_array: np.ndarray, path: str):\n",
    "    image_conversions = ImageConversions(image_array)\n",
    "    pil_image = image_conversions.to_pil()\n",
    "    pil_image.save(path)\n",
    "\n",
    "for image_path in tqdm.tqdm_notebook(images_paths):\n",
    "\n",
    "    image_id = os.path.splitext(os.path.basename(image_path))[0]\n",
    "    image_output_dir = os.path.join(output_dir, image_id)\n",
    "    os.makedirs(image_output_dir, exist_ok=True)\n",
    "\n",
    "    original_img = Image.open(image_path)\n",
    "    \n",
    "    iat_array = inference_iat(image_path, device=\"mps\", task=\"enhance\")\n",
    "    gamma_array = inference_gamma_enh(image_path)\n",
    "    enhance_img_array = inference_enhance_img(image_path, sigma_list=SIGMA_LIST)\n",
    "\n",
    "    original_img.save(os.path.join(image_output_dir, f\"{image_id}_original.jpg\"))\n",
    "\n",
    "    save_image(iat_array, os.path.join(image_output_dir, f\"{image_id}_iat.jpg\"))\n",
    "    cv2.imwrite(os.path.join(image_output_dir, f\"{image_id}_gamma.jpg\"), gamma_array)\n",
    "    save_image(enhance_img_array, os.path.join(image_output_dir, f\"{image_id}_enhance.jpg\"))"
   ],
   "outputs": [
    {
     "name": "stderr",
     "output_type": "stream",
     "text": [
      "/var/folders/_b/s5bh13p10d91gxrg02lrwy2m0000gn/T/ipykernel_76312/1769464463.py:25: TqdmDeprecationWarning: This function will be removed in tqdm==5.0.0\n",
      "Please use `tqdm.notebook.tqdm` instead of `tqdm.tqdm_notebook`\n",
      "  for image_path in tqdm.tqdm_notebook(images_paths):\n"
     ]
    },
    {
     "data": {
      "text/plain": [
       "  0%|          | 0/120 [00:00<?, ?it/s]"
      ],
      "application/vnd.jupyter.widget-view+json": {
       "version_major": 2,
       "version_minor": 0,
       "model_id": "d1992026b65a4de1bb1e172076a34dce"
      }
     },
     "metadata": {},
     "output_type": "display_data"
    }
   ],
   "execution_count": 2
  },
  {
   "metadata": {
    "ExecuteTime": {
     "end_time": "2024-05-25T15:40:21.500538Z",
     "start_time": "2024-05-25T15:40:21.499291Z"
    }
   },
   "cell_type": "code",
   "source": "",
   "id": "5e6d243ad0ee6a84",
   "outputs": [],
   "execution_count": 13
  }
 ],
 "metadata": {
  "kernelspec": {
   "display_name": "Python 3",
   "language": "python",
   "name": "python3"
  },
  "language_info": {
   "codemirror_mode": {
    "name": "ipython",
    "version": 2
   },
   "file_extension": ".py",
   "mimetype": "text/x-python",
   "name": "python",
   "nbconvert_exporter": "python",
   "pygments_lexer": "ipython2",
   "version": "2.7.6"
  }
 },
 "nbformat": 4,
 "nbformat_minor": 5
}
