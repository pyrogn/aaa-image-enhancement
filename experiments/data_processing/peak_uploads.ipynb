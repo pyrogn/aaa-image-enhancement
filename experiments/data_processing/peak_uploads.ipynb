{
 "cells": [
  {
   "cell_type": "code",
   "execution_count": null,
   "id": "initial_id",
   "metadata": {
    "ExecuteTime": {
     "end_time": "2024-05-15T15:46:45.113901Z",
     "start_time": "2024-05-15T15:46:44.570946Z"
    }
   },
   "outputs": [],
   "source": [
    "import pandas as pd\n",
    "import matplotlib.pyplot as plt"
   ]
  },
  {
   "cell_type": "code",
   "execution_count": null,
   "id": "61d980740f240286",
   "metadata": {
    "ExecuteTime": {
     "end_time": "2024-05-15T15:46:50.461167Z",
     "start_time": "2024-05-15T15:46:45.116729Z"
    }
   },
   "outputs": [],
   "source": [
    "data = pd.read_csv(\"../data/real_estate_dates.csv\")[[\"image_id\", \"StartTime\"]].rename(columns={\"StartTime\":\"upl_time\"})"
   ]
  },
  {
   "cell_type": "code",
   "execution_count": null,
   "id": "b4733be56ee9add8",
   "metadata": {
    "ExecuteTime": {
     "end_time": "2024-05-15T15:46:51.953780Z",
     "start_time": "2024-05-15T15:46:50.462495Z"
    }
   },
   "outputs": [],
   "source": [
    "data.upl_time = pd.to_datetime(data.upl_time).dt.to_period('s')"
   ]
  },
  {
   "cell_type": "code",
   "execution_count": null,
   "id": "e48f026b13094ced",
   "metadata": {
    "ExecuteTime": {
     "end_time": "2024-05-15T15:46:52.159541Z",
     "start_time": "2024-05-15T15:46:51.954422Z"
    }
   },
   "outputs": [],
   "source": [
    "uploads_per_sec = data.groupby(\"upl_time\").size().to_frame().rename(columns={0:\"n_uploads\"})"
   ]
  },
  {
   "cell_type": "code",
   "execution_count": null,
   "id": "4b55df25a7172689",
   "metadata": {
    "ExecuteTime": {
     "end_time": "2024-05-15T15:46:52.187689Z",
     "start_time": "2024-05-15T15:46:52.160837Z"
    }
   },
   "outputs": [],
   "source": [
    "uploads_per_sec.sort_values(by=\"n_uploads\", ascending=False, inplace=True)"
   ]
  },
  {
   "cell_type": "code",
   "execution_count": null,
   "id": "9971dad04edcb20e",
   "metadata": {
    "ExecuteTime": {
     "end_time": "2024-05-15T15:46:52.192455Z",
     "start_time": "2024-05-15T15:46:52.188312Z"
    }
   },
   "outputs": [],
   "source": [
    "uploads_per_sec = uploads_per_sec.reset_index()"
   ]
  },
  {
   "cell_type": "code",
   "execution_count": null,
   "id": "1113af8128e3b1fc",
   "metadata": {
    "ExecuteTime": {
     "end_time": "2024-05-15T15:46:52.200574Z",
     "start_time": "2024-05-15T15:46:52.193125Z"
    }
   },
   "outputs": [],
   "source": [
    "uploads_per_sec"
   ]
  },
  {
   "cell_type": "code",
   "execution_count": null,
   "id": "74e837a419861b66",
   "metadata": {
    "ExecuteTime": {
     "end_time": "2024-05-15T15:46:52.513583Z",
     "start_time": "2024-05-15T15:46:52.201289Z"
    }
   },
   "outputs": [],
   "source": [
    "uploads_per_sec.plot(kind=\"hist\", bins = 100, title=\"Images per Second\")\n",
    "\n",
    "plt.yscale(\"log\")"
   ]
  },
  {
   "cell_type": "code",
   "execution_count": null,
   "id": "b5990dfb9bc50a",
   "metadata": {
    "ExecuteTime": {
     "end_time": "2024-05-15T15:46:52.516928Z",
     "start_time": "2024-05-15T15:46:52.514328Z"
    }
   },
   "outputs": [],
   "source": [
    "uploads_per_sec.n_uploads.max()"
   ]
  }
 ],
 "metadata": {
  "kernelspec": {
   "display_name": "Python 3",
   "language": "python",
   "name": "python3"
  },
  "language_info": {
   "codemirror_mode": {
    "name": "ipython",
    "version": 2
   },
   "file_extension": ".py",
   "mimetype": "text/x-python",
   "name": "python",
   "nbconvert_exporter": "python",
   "pygments_lexer": "ipython2",
   "version": "2.7.6"
  }
 },
 "nbformat": 4,
 "nbformat_minor": 5
}
