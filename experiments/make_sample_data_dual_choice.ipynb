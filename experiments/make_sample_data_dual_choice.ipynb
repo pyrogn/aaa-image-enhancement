{
 "cells": [
  {
   "cell_type": "markdown",
   "metadata": {},
   "source": [
    "## Сгенерировать данные для dual choice (в одной папке оригинал с id = 0, а остальные - модификации). Папка имеет id картинки (ненастоящий)."
   ]
  },
  {
   "cell_type": "code",
   "execution_count": null,
   "metadata": {},
   "outputs": [],
   "source": [
    "import os\n",
    "import random\n",
    "from pathlib import Path\n",
    "\n",
    "from PIL import Image, ImageEnhance\n",
    "\n",
    "\n",
    "def increase_brightness(img, factor=1.5):\n",
    "    enhancer = ImageEnhance.Brightness(img)\n",
    "    return enhancer.enhance(factor)\n",
    "\n",
    "\n",
    "def increase_contrast(img, factor=1.5):\n",
    "    enhancer = ImageEnhance.Contrast(img)\n",
    "    return enhancer.enhance(factor)\n",
    "\n",
    "\n",
    "def process_images(source_dir, target_dir, num_images=50):\n",
    "    # Ensure the source directory exists\n",
    "    if not os.path.exists(source_dir):\n",
    "        print(f\"Source directory {source_dir} does not exist.\")\n",
    "        return\n",
    "\n",
    "    # Get all jpg files in the directory\n",
    "    all_images = [file for file in os.listdir(source_dir) if file.endswith(\".jpg\")]\n",
    "\n",
    "    # Select random 50 images\n",
    "    selected_images = random.sample(all_images, min(num_images, len(all_images)))\n",
    "\n",
    "    # Process each selected image\n",
    "    for image_name in selected_images:\n",
    "        # Create a subdirectory for the current image\n",
    "        current_dir = Path(target_dir) / Path(image_name).stem\n",
    "        current_dir.mkdir(parents=True, exist_ok=True)\n",
    "\n",
    "        # Open the image\n",
    "        img_path = os.path.join(source_dir, image_name)\n",
    "        with Image.open(img_path) as img:\n",
    "            # Save the original image\n",
    "            img.save(current_dir / \"0.jpg\")\n",
    "\n",
    "            # Increase brightness and save\n",
    "            bright_img = increase_brightness(img)\n",
    "            bright_img.save(current_dir / \"1.jpg\")\n",
    "\n",
    "            # Increase contrast and save\n",
    "            contrast_img = increase_contrast(img)\n",
    "            contrast_img.save(current_dir / \"2.jpg\")\n",
    "\n",
    "        print(f\"Processed {image_name} into {current_dir}\")\n",
    "\n",
    "\n",
    "source_directory = \"../data/real_estate_images_clean\"\n",
    "target_directory = \"../dual_choice/data\"\n",
    "process_images(source_directory, target_directory)"
   ]
  }
 ],
 "metadata": {
  "kernelspec": {
   "display_name": ".venv",
   "language": "python",
   "name": "python3"
  },
  "language_info": {
   "codemirror_mode": {
    "name": "ipython",
    "version": 3
   },
   "file_extension": ".py",
   "mimetype": "text/x-python",
   "name": "python",
   "nbconvert_exporter": "python",
   "pygments_lexer": "ipython3",
   "version": "3.12.3"
  }
 },
 "nbformat": 4,
 "nbformat_minor": 2
}
