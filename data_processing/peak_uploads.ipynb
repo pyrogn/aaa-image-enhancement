{
 "cells": [
  {
   "cell_type": "code",
   "id": "initial_id",
   "metadata": {
    "collapsed": true,
    "ExecuteTime": {
     "end_time": "2024-05-15T15:46:45.113901Z",
     "start_time": "2024-05-15T15:46:44.570946Z"
    }
   },
   "source": [
    "import pandas as pd\n",
    "import matplotlib.pyplot as plt"
   ],
   "outputs": [],
   "execution_count": 1
  },
  {
   "metadata": {
    "ExecuteTime": {
     "end_time": "2024-05-15T15:46:50.461167Z",
     "start_time": "2024-05-15T15:46:45.116729Z"
    }
   },
   "cell_type": "code",
   "source": "data = pd.read_csv(\"../data/real_estate_dates.csv\")[[\"image_id\", \"StartTime\"]].rename(columns={\"StartTime\":\"upl_time\"})",
   "id": "61d980740f240286",
   "outputs": [],
   "execution_count": 2
  },
  {
   "metadata": {
    "ExecuteTime": {
     "end_time": "2024-05-15T15:46:51.953780Z",
     "start_time": "2024-05-15T15:46:50.462495Z"
    }
   },
   "cell_type": "code",
   "source": "data.upl_time = pd.to_datetime(data.upl_time).dt.to_period('s')",
   "id": "b4733be56ee9add8",
   "outputs": [],
   "execution_count": 3
  },
  {
   "metadata": {
    "ExecuteTime": {
     "end_time": "2024-05-15T15:46:52.159541Z",
     "start_time": "2024-05-15T15:46:51.954422Z"
    }
   },
   "cell_type": "code",
   "source": "uploads_per_sec = data.groupby(\"upl_time\").size().to_frame().rename(columns={0:\"n_uploads\"})",
   "id": "e48f026b13094ced",
   "outputs": [],
   "execution_count": 4
  },
  {
   "metadata": {
    "ExecuteTime": {
     "end_time": "2024-05-15T15:46:52.187689Z",
     "start_time": "2024-05-15T15:46:52.160837Z"
    }
   },
   "cell_type": "code",
   "source": "uploads_per_sec.sort_values(by=\"n_uploads\", ascending=False, inplace=True)",
   "id": "4b55df25a7172689",
   "outputs": [],
   "execution_count": 5
  },
  {
   "metadata": {
    "ExecuteTime": {
     "end_time": "2024-05-15T15:46:52.192455Z",
     "start_time": "2024-05-15T15:46:52.188312Z"
    }
   },
   "cell_type": "code",
   "source": "uploads_per_sec = uploads_per_sec.reset_index()",
   "id": "9971dad04edcb20e",
   "outputs": [],
   "execution_count": 6
  },
  {
   "metadata": {
    "ExecuteTime": {
     "end_time": "2024-05-15T15:46:52.200574Z",
     "start_time": "2024-05-15T15:46:52.193125Z"
    }
   },
   "cell_type": "code",
   "source": "uploads_per_sec",
   "id": "1113af8128e3b1fc",
   "outputs": [
    {
     "data": {
      "text/plain": [
       "                   upl_time  n_uploads\n",
       "0       2024-03-01 16:00:01       2413\n",
       "1       2024-02-16 16:52:39       2214\n",
       "2       2024-02-16 16:52:22       2127\n",
       "3       2024-02-08 15:58:40       2113\n",
       "4       2024-02-16 16:52:26       2099\n",
       "...                     ...        ...\n",
       "513333  2024-03-01 11:19:18          1\n",
       "513334  2024-02-06 15:12:31          1\n",
       "513335  2024-03-01 11:18:35          1\n",
       "513336  2024-03-01 11:17:26          1\n",
       "513337  2024-03-10 19:20:16          1\n",
       "\n",
       "[513338 rows x 2 columns]"
      ],
      "text/html": [
       "<div>\n",
       "<style scoped>\n",
       "    .dataframe tbody tr th:only-of-type {\n",
       "        vertical-align: middle;\n",
       "    }\n",
       "\n",
       "    .dataframe tbody tr th {\n",
       "        vertical-align: top;\n",
       "    }\n",
       "\n",
       "    .dataframe thead th {\n",
       "        text-align: right;\n",
       "    }\n",
       "</style>\n",
       "<table border=\"1\" class=\"dataframe\">\n",
       "  <thead>\n",
       "    <tr style=\"text-align: right;\">\n",
       "      <th></th>\n",
       "      <th>upl_time</th>\n",
       "      <th>n_uploads</th>\n",
       "    </tr>\n",
       "  </thead>\n",
       "  <tbody>\n",
       "    <tr>\n",
       "      <th>0</th>\n",
       "      <td>2024-03-01 16:00:01</td>\n",
       "      <td>2413</td>\n",
       "    </tr>\n",
       "    <tr>\n",
       "      <th>1</th>\n",
       "      <td>2024-02-16 16:52:39</td>\n",
       "      <td>2214</td>\n",
       "    </tr>\n",
       "    <tr>\n",
       "      <th>2</th>\n",
       "      <td>2024-02-16 16:52:22</td>\n",
       "      <td>2127</td>\n",
       "    </tr>\n",
       "    <tr>\n",
       "      <th>3</th>\n",
       "      <td>2024-02-08 15:58:40</td>\n",
       "      <td>2113</td>\n",
       "    </tr>\n",
       "    <tr>\n",
       "      <th>4</th>\n",
       "      <td>2024-02-16 16:52:26</td>\n",
       "      <td>2099</td>\n",
       "    </tr>\n",
       "    <tr>\n",
       "      <th>...</th>\n",
       "      <td>...</td>\n",
       "      <td>...</td>\n",
       "    </tr>\n",
       "    <tr>\n",
       "      <th>513333</th>\n",
       "      <td>2024-03-01 11:19:18</td>\n",
       "      <td>1</td>\n",
       "    </tr>\n",
       "    <tr>\n",
       "      <th>513334</th>\n",
       "      <td>2024-02-06 15:12:31</td>\n",
       "      <td>1</td>\n",
       "    </tr>\n",
       "    <tr>\n",
       "      <th>513335</th>\n",
       "      <td>2024-03-01 11:18:35</td>\n",
       "      <td>1</td>\n",
       "    </tr>\n",
       "    <tr>\n",
       "      <th>513336</th>\n",
       "      <td>2024-03-01 11:17:26</td>\n",
       "      <td>1</td>\n",
       "    </tr>\n",
       "    <tr>\n",
       "      <th>513337</th>\n",
       "      <td>2024-03-10 19:20:16</td>\n",
       "      <td>1</td>\n",
       "    </tr>\n",
       "  </tbody>\n",
       "</table>\n",
       "<p>513338 rows × 2 columns</p>\n",
       "</div>"
      ]
     },
     "execution_count": 7,
     "metadata": {},
     "output_type": "execute_result"
    }
   ],
   "execution_count": 7
  },
  {
   "metadata": {
    "ExecuteTime": {
     "end_time": "2024-05-15T15:46:52.513583Z",
     "start_time": "2024-05-15T15:46:52.201289Z"
    }
   },
   "cell_type": "code",
   "source": [
    "uploads_per_sec.plot(kind=\"hist\", bins = 100, title=\"Images per Second\")\n",
    "\n",
    "plt.yscale(\"log\")"
   ],
   "id": "74e837a419861b66",
   "outputs": [
    {
     "data": {
      "text/plain": [
       "<Figure size 640x480 with 1 Axes>"
      ],
      "image/png": "[encoded data removed]"
     },
     "metadata": {},
     "output_type": "display_data"
    }
   ],
   "execution_count": 8
  },
  {
   "metadata": {
    "ExecuteTime": {
     "end_time": "2024-05-15T15:46:52.516928Z",
     "start_time": "2024-05-15T15:46:52.514328Z"
    }
   },
   "cell_type": "code",
   "source": "uploads_per_sec.n_uploads.max()",
   "id": "b5990dfb9bc50a",
   "outputs": [
    {
     "data": {
      "text/plain": [
       "2413"
      ]
     },
     "execution_count": 9,
     "metadata": {},
     "output_type": "execute_result"
    }
   ],
   "execution_count": 9
  }
 ],
 "metadata": {
  "kernelspec": {
   "display_name": "Python 3",
   "language": "python",
   "name": "python3"
  },
  "language_info": {
   "codemirror_mode": {
    "name": "ipython",
    "version": 2
   },
   "file_extension": ".py",
   "mimetype": "text/x-python",
   "name": "python",
   "nbconvert_exporter": "python",
   "pygments_lexer": "ipython2",
   "version": "2.7.6"
  }
 },
 "nbformat": 4,
 "nbformat_minor": 5
}
