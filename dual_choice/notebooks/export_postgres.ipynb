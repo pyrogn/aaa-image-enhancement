{
 "cells": [
  {
   "cell_type": "markdown",
   "metadata": {},
   "source": [
    "## Тренировка в обработке логов"
   ]
  },
  {
   "cell_type": "markdown",
   "metadata": {},
   "source": [
    "На самом деле, очень просто - это попарные сравнения. Для нахождения параметров используем https://en.wikipedia.org/wiki/Bradley%E2%80%93Terry_model"
   ]
  },
  {
   "cell_type": "code",
   "execution_count": null,
   "metadata": {},
   "outputs": [],
   "source": [
    "import pandas as pd\n",
    "import psycopg\n",
    "\n",
    "db_host = \"localhost\"\n",
    "db_port = \"5432\"\n",
    "db_name = \"database\"\n",
    "db_user = \"user\"\n",
    "db_password = \"password\"\n",
    "\n",
    "conn = psycopg.connect(\n",
    "    host=db_host, port=db_port, dbname=db_name, user=db_user, password=db_password\n",
    ")\n",
    "\n",
    "cur = conn.cursor()\n",
    "\n",
    "query = \"SELECT * FROM image_selections\"\n",
    "cur.execute(query)\n",
    "\n",
    "rows = cur.fetchall()\n",
    "\n",
    "column_names = [desc[0] for desc in cur.description]\n",
    "\n",
    "df = pd.DataFrame(rows, columns=column_names)\n",
    "\n",
    "cur.close()\n",
    "conn.close()\n",
    "df"
   ]
  },
  {
   "cell_type": "markdown",
   "metadata": {},
   "source": [
    "- https://github.com/lucasmaystre/choix/blob/master/notebooks/intro-pairwise.ipynb\n",
    "- https://choix.lum.li/en/latest/api.html#processing-pairwise-comparisons"
   ]
  },
  {
   "cell_type": "code",
   "execution_count": null,
   "metadata": {},
   "outputs": [],
   "source": [
    "import choix\n",
    "import numpy as np"
   ]
  },
  {
   "cell_type": "code",
   "execution_count": null,
   "metadata": {},
   "outputs": [],
   "source": [
    "n_items = 3\n",
    "data = df[[\"selected_id\", \"other_id\"]].to_numpy()"
   ]
  },
  {
   "cell_type": "code",
   "execution_count": null,
   "metadata": {},
   "outputs": [],
   "source": [
    "params = choix.ilsr_pairwise(n_items, data)\n",
    "print(params)\n",
    "print(\"ranking (worst to best):\", np.argsort(params))"
   ]
  }
 ],
 "metadata": {
  "kernelspec": {
   "display_name": ".venv",
   "language": "python",
   "name": "python3"
  },
  "language_info": {
   "codemirror_mode": {
    "name": "ipython",
    "version": 3
   },
   "file_extension": ".py",
   "mimetype": "text/x-python",
   "name": "python",
   "nbconvert_exporter": "python",
   "pygments_lexer": "ipython3",
   "version": "3.12.3"
  }
 },
 "nbformat": 4,
 "nbformat_minor": 2
}
